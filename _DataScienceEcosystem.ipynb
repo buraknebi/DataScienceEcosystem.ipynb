{
 "cells": [
  {
   "cell_type": "markdown",
   "id": "ab4ac1c2-ca59-4b5b-90f9-60d52de79283",
   "metadata": {},
   "source": [
    "# Data Science Tools and Ecosystem"
   ]
  },
  {
   "cell_type": "markdown",
   "id": "7269a0a2-116d-48ba-a72d-55d891d3a379",
   "metadata": {},
   "source": [
    "In this notebook, Data Science Tools and Ecosystem are summarized.\n",
    "\n",
    "\n"
   ]
  },
  {
   "cell_type": "markdown",
   "id": "64914ba4-0969-4f45-a470-2e5673cc2bf3",
   "metadata": {},
   "source": [
    "**Objectives:**\n",
    "* Java\n",
    "* C++\n",
    "* Julia\n",
    "* Swift\n",
    "* R"
   ]
  },
  {
   "cell_type": "markdown",
   "id": "56fa5594-c57b-4157-a455-1d237ba11be8",
   "metadata": {},
   "source": [
    "Some of the popular languages that Data Scientists use are:\n",
    "1. Python\n",
    "2. R\n",
    "3. SQL\n",
    "4. JavaScriptScala"
   ]
  },
  {
   "cell_type": "markdown",
   "id": "92f219b8-6f9d-420a-a41a-e4393611fe01",
   "metadata": {},
   "source": [
    "Some of the commonly used libraries used by Data Scientists include:\n",
    "1. Numpy\n",
    "2. Pandas\n",
    "3. Matplotlib\n",
    "4. Scikit-Learn\n",
    "5. Scipy\n",
    "6. Keras\n",
    "7. Seaborn\n",
    "8. PyTorch\n",
    "9. TensorFlow\n"
   ]
  },
  {
   "cell_type": "markdown",
   "id": "312b68f6-de59-4ab5-974b-da603f6c5c6d",
   "metadata": {},
   "source": [
    "|Data Science Tools|\n",
    "|------------------|\n",
    "|Jupyter Notebook|\n",
    "|Keras|\n",
    "|MATLAB|\n",
    "|NumPy|\n",
    "\n",
    "\n"
   ]
  },
  {
   "cell_type": "markdown",
   "id": "2fd718a7-ab25-4856-a491-db8147b67a17",
   "metadata": {},
   "source": [
    "### Below are a few examples of evaluating arithmetic expressions in Python.\n",
    "\n",
    "* 2+2=4\n",
    "* 6-4=2\n"
   ]
  },
  {
   "cell_type": "code",
   "execution_count": 56,
   "id": "24ab6d37-6d73-4999-85d7-5ba18f0f0968",
   "metadata": {},
   "outputs": [
    {
     "data": {
      "text/plain": [
       "17"
      ]
     },
     "execution_count": 56,
     "metadata": {},
     "output_type": "execute_result"
    }
   ],
   "source": [
    "#This a simple arithmetic expression to mutiply then add integers.\n",
    "\n",
    "(3*4)+5"
   ]
  },
  {
   "cell_type": "code",
   "execution_count": 68,
   "id": "68c710dd-798f-4128-9ea4-12b1cfd09f8f",
   "metadata": {},
   "outputs": [],
   "source": [
    "#This will convert 200 minutes to hours by diving by 60\n",
    "\n",
    "x = 200 \n",
    "y = 60 \n",
    "z = (x/y)\n",
    "\n"
   ]
  },
  {
   "cell_type": "code",
   "execution_count": 70,
   "id": "aeba3ad4-5d96-4749-b918-9459d0a5ba62",
   "metadata": {},
   "outputs": [
    {
     "name": "stdout",
     "output_type": "stream",
     "text": [
      "3.3333333333333335\n"
     ]
    }
   ],
   "source": [
    "print(z)"
   ]
  },
  {
   "cell_type": "code",
   "execution_count": 74,
   "id": "82ee5c8c-a40d-4f92-b61e-e9d5f8363e64",
   "metadata": {},
   "outputs": [
    {
     "data": {
      "text/plain": [
       "3.3333333333333335"
      ]
     },
     "execution_count": 74,
     "metadata": {},
     "output_type": "execute_result"
    }
   ],
   "source": [
    "# This will convert 200 minutes to hours by diving by 60\n",
    "\n",
    "minutes = 200\n",
    "hours = minutes / 60\n",
    "hours"
   ]
  },
  {
   "cell_type": "markdown",
   "id": "a278167c-1dac-49ad-a984-19306092a408",
   "metadata": {},
   "source": [
    "## Author\n",
    "Burak Nebioglu"
   ]
  },
  {
   "cell_type": "code",
   "execution_count": null,
   "id": "c1714c1d-42dc-4bb8-875c-b0f4f4084e63",
   "metadata": {},
   "outputs": [],
   "source": []
  }
 ],
 "metadata": {
  "kernelspec": {
   "display_name": "Python 3 (ipykernel)",
   "language": "python",
   "name": "python3"
  },
  "language_info": {
   "codemirror_mode": {
    "name": "ipython",
    "version": 3
   },
   "file_extension": ".py",
   "mimetype": "text/x-python",
   "name": "python",
   "nbconvert_exporter": "python",
   "pygments_lexer": "ipython3",
   "version": "3.12.7"
  }
 },
 "nbformat": 4,
 "nbformat_minor": 5
}
